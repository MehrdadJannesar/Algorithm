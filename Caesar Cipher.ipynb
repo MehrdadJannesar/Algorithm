{
 "cells": [
  {
   "cell_type": "code",
   "execution_count": 1,
   "id": "07e8bc88",
   "metadata": {},
   "outputs": [],
   "source": [
    "from string import ascii_letters"
   ]
  },
  {
   "cell_type": "code",
   "execution_count": 2,
   "id": "695afe48",
   "metadata": {},
   "outputs": [],
   "source": [
    "def ecrypt(word,k):\n",
    "    alpha = ascii_letters\n",
    "    result = ''\n",
    "    \n",
    "    for ch in word:\n",
    "        if ch not in alpha:\n",
    "            result += ch\n",
    "        else:\n",
    "            new_k = (alpha.index(ch) + k) % len(alpha)\n",
    "            result += alpha[new_k]\n",
    "    return result"
   ]
  },
  {
   "cell_type": "code",
   "execution_count": 3,
   "id": "4365e66c",
   "metadata": {},
   "outputs": [],
   "source": [
    "def decrypt(word, k):\n",
    "    k *= -1\n",
    "    return ecrypt(word,k)"
   ]
  },
  {
   "cell_type": "code",
   "execution_count": 4,
   "id": "573d19c5",
   "metadata": {},
   "outputs": [
    {
     "name": "stdout",
     "output_type": "stream",
     "text": [
      "Qilvheh\n"
     ]
    }
   ],
   "source": [
    "print(ecrypt('Mehrdad',4))"
   ]
  },
  {
   "cell_type": "code",
   "execution_count": 5,
   "id": "c9dbc5ed",
   "metadata": {},
   "outputs": [
    {
     "name": "stdout",
     "output_type": "stream",
     "text": [
      "Mehrdad\n"
     ]
    }
   ],
   "source": [
    "print(decrypt('Qilvheh',4))"
   ]
  },
  {
   "cell_type": "code",
   "execution_count": 6,
   "id": "824cbdbe",
   "metadata": {},
   "outputs": [],
   "source": [
    "def brute_force(word, source_word=None):\n",
    "    alpha = ascii_letters\n",
    "    k = 1\n",
    "    result = ''\n",
    "    brute_force_data = {}\n",
    "    \n",
    "    while k <= len(alpha):\n",
    "        result = decrypt(word,k)\n",
    "        brute_force_data[k] = result\n",
    "        result = ''\n",
    "        k += 1\n",
    "    return [[k for k, v in brute_force_data.items() if v == source_word][0] if source_word in brute_force_data.values() else brute_force_data]"
   ]
  },
  {
   "cell_type": "code",
   "execution_count": 9,
   "id": "c6b2ed3c",
   "metadata": {},
   "outputs": [
    {
     "name": "stdout",
     "output_type": "stream",
     "text": [
      "Step is : [4]\n"
     ]
    }
   ],
   "source": [
    "print(f\"Step is : {brute_force('Qilvheh','Mehrdad')}\")"
   ]
  },
  {
   "cell_type": "code",
   "execution_count": null,
   "id": "9f34edb4",
   "metadata": {},
   "outputs": [],
   "source": []
  }
 ],
 "metadata": {
  "kernelspec": {
   "display_name": "Python 3 (ipykernel)",
   "language": "python",
   "name": "python3"
  },
  "language_info": {
   "codemirror_mode": {
    "name": "ipython",
    "version": 3
   },
   "file_extension": ".py",
   "mimetype": "text/x-python",
   "name": "python",
   "nbconvert_exporter": "python",
   "pygments_lexer": "ipython3",
   "version": "3.9.12"
  }
 },
 "nbformat": 4,
 "nbformat_minor": 5
}
