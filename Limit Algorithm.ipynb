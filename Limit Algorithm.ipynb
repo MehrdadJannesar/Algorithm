{
 "cells": [
  {
   "cell_type": "code",
   "execution_count": 1,
   "id": "ac7c3161",
   "metadata": {},
   "outputs": [],
   "source": [
    "nums = [1,2,3,4,5]"
   ]
  },
  {
   "cell_type": "code",
   "execution_count": 5,
   "id": "f7ac8c22",
   "metadata": {},
   "outputs": [],
   "source": [
    "def limit(arr,min=None,max=None):\n",
    "    min_check = lambda val: True if min is None else (val >= min)\n",
    "    max_check = lambda val: True if max is None else (val <= max)\n",
    "    \n",
    "    return [val for val in arr if min_check(val) and max_check(val)]"
   ]
  },
  {
   "cell_type": "code",
   "execution_count": 8,
   "id": "9a357c68",
   "metadata": {},
   "outputs": [
    {
     "name": "stdout",
     "output_type": "stream",
     "text": [
      "[1, 2, 3]\n",
      "[3, 4, 5]\n",
      "[3]\n"
     ]
    }
   ],
   "source": [
    "print(limit(nums,max=3))\n",
    "print(limit(nums,min=3))\n",
    "print(limit(nums,3,3))"
   ]
  },
  {
   "cell_type": "code",
   "execution_count": null,
   "id": "21e99988",
   "metadata": {},
   "outputs": [],
   "source": []
  }
 ],
 "metadata": {
  "kernelspec": {
   "display_name": "Python 3 (ipykernel)",
   "language": "python",
   "name": "python3"
  },
  "language_info": {
   "codemirror_mode": {
    "name": "ipython",
    "version": 3
   },
   "file_extension": ".py",
   "mimetype": "text/x-python",
   "name": "python",
   "nbconvert_exporter": "python",
   "pygments_lexer": "ipython3",
   "version": "3.9.12"
  }
 },
 "nbformat": 4,
 "nbformat_minor": 5
}
