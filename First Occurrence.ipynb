{
 "cells": [
  {
   "cell_type": "code",
   "execution_count": 1,
   "id": "b14806bb",
   "metadata": {},
   "outputs": [],
   "source": [
    "def first_occurrence(array, element):\n",
    "    low, high = 0, len(array) - 1\n",
    "    \n",
    "    while low <= high:\n",
    "        mid = (low + high) // 2\n",
    "        \n",
    "        if low == high:\n",
    "            break\n",
    "            \n",
    "        if array[mid] < element:\n",
    "            low = mid + 1\n",
    "        else:\n",
    "            high = mid\n",
    "            \n",
    "    if array[low] == element:\n",
    "        return low"
   ]
  },
  {
   "cell_type": "code",
   "execution_count": 2,
   "id": "28d86000",
   "metadata": {},
   "outputs": [
    {
     "name": "stdout",
     "output_type": "stream",
     "text": [
      "5\n"
     ]
    }
   ],
   "source": [
    "print(first_occurrence([2,2,2,3,3,4,4,5,5,5],4))"
   ]
  },
  {
   "cell_type": "code",
   "execution_count": 3,
   "id": "e61d2677",
   "metadata": {},
   "outputs": [
    {
     "name": "stdout",
     "output_type": "stream",
     "text": [
      "None\n"
     ]
    }
   ],
   "source": [
    "print(first_occurrence([2,2,5,3,3,4,2,4,5,5,5],4))"
   ]
  },
  {
   "cell_type": "code",
   "execution_count": null,
   "id": "8b64698a",
   "metadata": {},
   "outputs": [],
   "source": []
  }
 ],
 "metadata": {
  "kernelspec": {
   "display_name": "Python 3 (ipykernel)",
   "language": "python",
   "name": "python3"
  },
  "language_info": {
   "codemirror_mode": {
    "name": "ipython",
    "version": 3
   },
   "file_extension": ".py",
   "mimetype": "text/x-python",
   "name": "python",
   "nbconvert_exporter": "python",
   "pygments_lexer": "ipython3",
   "version": "3.9.12"
  }
 },
 "nbformat": 4,
 "nbformat_minor": 5
}
