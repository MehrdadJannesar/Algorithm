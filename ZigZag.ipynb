{
 "cells": [
  {
   "cell_type": "code",
   "execution_count": 1,
   "id": "a36b26af",
   "metadata": {},
   "outputs": [],
   "source": [
    "class ZigZag:\n",
    "    def __init__(self,l1,l2):\n",
    "        self.queue = [l1,l2]\n",
    "        \n",
    "    def next(self):\n",
    "        v = self.queue.pop(0)\n",
    "        r = v.pop(0)\n",
    "        if v:\n",
    "            self.queue.append(v)\n",
    "        return r\n",
    "    \n",
    "    def has_next(self):\n",
    "        if self.queue:\n",
    "            return True\n",
    "        return False"
   ]
  },
  {
   "cell_type": "code",
   "execution_count": 2,
   "id": "80e19a09",
   "metadata": {},
   "outputs": [],
   "source": [
    "z = ZigZag([1,3,5,7,8],[2,4,6,8,10])"
   ]
  },
  {
   "cell_type": "code",
   "execution_count": 4,
   "id": "58758f00",
   "metadata": {},
   "outputs": [
    {
     "name": "stdout",
     "output_type": "stream",
     "text": [
      "1 2 3 4 5 6 7 8 8 10 "
     ]
    }
   ],
   "source": [
    "while z.has_next():\n",
    "    print(z.next(), end=\" \")"
   ]
  },
  {
   "cell_type": "code",
   "execution_count": null,
   "id": "3588fdb7",
   "metadata": {},
   "outputs": [],
   "source": []
  }
 ],
 "metadata": {
  "kernelspec": {
   "display_name": "Python 3 (ipykernel)",
   "language": "python",
   "name": "python3"
  },
  "language_info": {
   "codemirror_mode": {
    "name": "ipython",
    "version": 3
   },
   "file_extension": ".py",
   "mimetype": "text/x-python",
   "name": "python",
   "nbconvert_exporter": "python",
   "pygments_lexer": "ipython3",
   "version": "3.9.12"
  }
 },
 "nbformat": 4,
 "nbformat_minor": 5
}
