{
 "cells": [
  {
   "cell_type": "code",
   "execution_count": 1,
   "id": "c8fda931",
   "metadata": {},
   "outputs": [],
   "source": [
    "def rotate(s,k):\n",
    "    double_s = s + s #=> hello ====> hellohello\n",
    "    if k <= len(s):\n",
    "        return double_s[k:k + len(s)]\n",
    "    else:\n",
    "        return double_s[k-len(s):k]"
   ]
  },
  {
   "cell_type": "code",
   "execution_count": 2,
   "id": "327fb5a1",
   "metadata": {},
   "outputs": [
    {
     "name": "stdout",
     "output_type": "stream",
     "text": [
      "llohe\n"
     ]
    }
   ],
   "source": [
    "print(rotate('hello',7))"
   ]
  },
  {
   "cell_type": "code",
   "execution_count": null,
   "id": "4c235bea",
   "metadata": {},
   "outputs": [],
   "source": []
  }
 ],
 "metadata": {
  "kernelspec": {
   "display_name": "Python 3 (ipykernel)",
   "language": "python",
   "name": "python3"
  },
  "language_info": {
   "codemirror_mode": {
    "name": "ipython",
    "version": 3
   },
   "file_extension": ".py",
   "mimetype": "text/x-python",
   "name": "python",
   "nbconvert_exporter": "python",
   "pygments_lexer": "ipython3",
   "version": "3.9.12"
  }
 },
 "nbformat": 4,
 "nbformat_minor": 5
}
