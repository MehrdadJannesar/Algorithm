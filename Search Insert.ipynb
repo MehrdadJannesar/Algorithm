{
 "cells": [
  {
   "cell_type": "code",
   "execution_count": 1,
   "id": "005a6f4a",
   "metadata": {},
   "outputs": [],
   "source": [
    "def search_insert(lst, val):\n",
    "    low = 0\n",
    "    high = len(lst) - 1\n",
    "    mid = high // 2\n",
    "    \n",
    "    while low <= high:\n",
    "        if val > lst[mid]:\n",
    "            mid += 1\n",
    "            low = mid\n",
    "        else:\n",
    "            mid -= 1\n",
    "            high = mid\n",
    "    return low"
   ]
  },
  {
   "cell_type": "code",
   "execution_count": 3,
   "id": "ee8905b2",
   "metadata": {},
   "outputs": [
    {
     "name": "stdout",
     "output_type": "stream",
     "text": [
      "1\n"
     ]
    }
   ],
   "source": [
    "print(search_insert([1,3,5,6],3))"
   ]
  },
  {
   "cell_type": "code",
   "execution_count": null,
   "id": "13456cac",
   "metadata": {},
   "outputs": [],
   "source": []
  }
 ],
 "metadata": {
  "kernelspec": {
   "display_name": "Python 3 (ipykernel)",
   "language": "python",
   "name": "python3"
  },
  "language_info": {
   "codemirror_mode": {
    "name": "ipython",
    "version": 3
   },
   "file_extension": ".py",
   "mimetype": "text/x-python",
   "name": "python",
   "nbconvert_exporter": "python",
   "pygments_lexer": "ipython3",
   "version": "3.9.12"
  }
 },
 "nbformat": 4,
 "nbformat_minor": 5
}
