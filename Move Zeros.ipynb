{
 "cells": [
  {
   "cell_type": "code",
   "execution_count": 1,
   "id": "76f4069f",
   "metadata": {},
   "outputs": [],
   "source": [
    "def move_zeros(seq):\n",
    "    result = []\n",
    "    zeros = 0\n",
    "    for i in seq:\n",
    "        if i == 0 and i != type(bool):\n",
    "            zeros += 1\n",
    "        else:\n",
    "            result.append(i)\n",
    "            \n",
    "    return result.extend([0] * zeros)"
   ]
  },
  {
   "cell_type": "code",
   "execution_count": 3,
   "id": "5a3ce50b",
   "metadata": {},
   "outputs": [
    {
     "name": "stdout",
     "output_type": "stream",
     "text": [
      "None\n"
     ]
    }
   ],
   "source": [
    "print(move_zeros([False,1,0,0,2,3,\"a\"]))"
   ]
  },
  {
   "cell_type": "code",
   "execution_count": null,
   "id": "f9997b94",
   "metadata": {},
   "outputs": [],
   "source": []
  }
 ],
 "metadata": {
  "kernelspec": {
   "display_name": "Python 3 (ipykernel)",
   "language": "python",
   "name": "python3"
  },
  "language_info": {
   "codemirror_mode": {
    "name": "ipython",
    "version": 3
   },
   "file_extension": ".py",
   "mimetype": "text/x-python",
   "name": "python",
   "nbconvert_exporter": "python",
   "pygments_lexer": "ipython3",
   "version": "3.9.12"
  }
 },
 "nbformat": 4,
 "nbformat_minor": 5
}
