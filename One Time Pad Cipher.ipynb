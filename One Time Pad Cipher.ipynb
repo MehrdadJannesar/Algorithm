{
 "cells": [
  {
   "cell_type": "code",
   "execution_count": 1,
   "id": "de64151d",
   "metadata": {},
   "outputs": [],
   "source": [
    "import random"
   ]
  },
  {
   "cell_type": "code",
   "execution_count": 2,
   "id": "f6a00197",
   "metadata": {},
   "outputs": [],
   "source": [
    "class OneTime:\n",
    "    def encrypt(self, text):\n",
    "        plain = [ord(i) for i in text]\n",
    "        key = []\n",
    "        cipher = []\n",
    "        for i in plain:\n",
    "            k = random.randint(1,300)\n",
    "            c = (i + k) * k\n",
    "            cipher.append(c)\n",
    "            key.append(k)\n",
    "        return cipher, key\n",
    "    \n",
    "    def decrypt(self, cipher, key):\n",
    "        plain = []\n",
    "        for i in range(len(key)):\n",
    "            p = int((cipher[i] - key[i] ** 2) / key [i])\n",
    "            plain.append(chr(p))\n",
    "        result = ''.join([i for i in plain])\n",
    "        return result"
   ]
  },
  {
   "cell_type": "code",
   "execution_count": 3,
   "id": "913df2c5",
   "metadata": {},
   "outputs": [
    {
     "name": "stdout",
     "output_type": "stream",
     "text": [
      "[78890, 12702, 57321, 48280, 3276, 21828, 37500]\n",
      "[245, 73, 193, 170, 26, 107, 150]\n",
      "Mehrdad\n"
     ]
    }
   ],
   "source": [
    "cipher, key = OneTime().encrypt('Mehrdad')\n",
    "\n",
    "print(cipher)\n",
    "print(key)\n",
    "\n",
    "decrypt = OneTime().decrypt(cipher, key)\n",
    "print(decrypt)"
   ]
  },
  {
   "cell_type": "code",
   "execution_count": null,
   "id": "f1b83654",
   "metadata": {},
   "outputs": [],
   "source": []
  }
 ],
 "metadata": {
  "kernelspec": {
   "display_name": "Python 3 (ipykernel)",
   "language": "python",
   "name": "python3"
  },
  "language_info": {
   "codemirror_mode": {
    "name": "ipython",
    "version": 3
   },
   "file_extension": ".py",
   "mimetype": "text/x-python",
   "name": "python",
   "nbconvert_exporter": "python",
   "pygments_lexer": "ipython3",
   "version": "3.9.12"
  }
 },
 "nbformat": 4,
 "nbformat_minor": 5
}
