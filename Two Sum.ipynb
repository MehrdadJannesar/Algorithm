{
 "cells": [
  {
   "cell_type": "code",
   "execution_count": 1,
   "id": "8eeaeb74",
   "metadata": {},
   "outputs": [],
   "source": [
    "def two_sum(numbers, target):\n",
    "    p1 = 0 #=> first index\n",
    "    p2 = len(numbers) - 1 #=> last index\n",
    "    while p1< p2:\n",
    "        s = numbers[p1] + numbers[p2]\n",
    "        if s == target:\n",
    "            return [p1,p2]\n",
    "        elif s > target:\n",
    "            p2 = p2 - 1\n",
    "        else:\n",
    "            p1 = p1 + 1           "
   ]
  },
  {
   "cell_type": "code",
   "execution_count": 2,
   "id": "63bc52b4",
   "metadata": {},
   "outputs": [
    {
     "name": "stdout",
     "output_type": "stream",
     "text": [
      "[0, 1]\n"
     ]
    }
   ],
   "source": [
    "print(two_sum([2,7,11,15],9))"
   ]
  },
  {
   "cell_type": "code",
   "execution_count": null,
   "id": "023010d3",
   "metadata": {},
   "outputs": [],
   "source": []
  }
 ],
 "metadata": {
  "kernelspec": {
   "display_name": "Python 3 (ipykernel)",
   "language": "python",
   "name": "python3"
  },
  "language_info": {
   "codemirror_mode": {
    "name": "ipython",
    "version": 3
   },
   "file_extension": ".py",
   "mimetype": "text/x-python",
   "name": "python",
   "nbconvert_exporter": "python",
   "pygments_lexer": "ipython3",
   "version": "3.9.12"
  }
 },
 "nbformat": 4,
 "nbformat_minor": 5
}
