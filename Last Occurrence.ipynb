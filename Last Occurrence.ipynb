{
 "cells": [
  {
   "cell_type": "code",
   "execution_count": 2,
   "id": "34c8ad88",
   "metadata": {},
   "outputs": [],
   "source": [
    "def last_occurrence(array, element):\n",
    "    low, high = 0, len(array) - 1\n",
    "    \n",
    "    while low <= high:\n",
    "        mid = (high + low) // 2\n",
    "        if (array[mid] == element and mid == len(array)-1) or \\\n",
    "            (array[mid] == element and array[mid+1] > element):\n",
    "             return mid\n",
    "             \n",
    "        elif array[mid] <= element:\n",
    "             low = mid + 1\n",
    "        else:\n",
    "             high = mid - 1"
   ]
  },
  {
   "cell_type": "code",
   "execution_count": 3,
   "id": "45c8de1f",
   "metadata": {},
   "outputs": [
    {
     "name": "stdout",
     "output_type": "stream",
     "text": [
      "4\n"
     ]
    }
   ],
   "source": [
    "print(last_occurrence([2,2,2,3,3,4,4,5,5,5],3))"
   ]
  },
  {
   "cell_type": "code",
   "execution_count": null,
   "id": "a2551f6a",
   "metadata": {},
   "outputs": [],
   "source": []
  }
 ],
 "metadata": {
  "kernelspec": {
   "display_name": "Python 3 (ipykernel)",
   "language": "python",
   "name": "python3"
  },
  "language_info": {
   "codemirror_mode": {
    "name": "ipython",
    "version": 3
   },
   "file_extension": ".py",
   "mimetype": "text/x-python",
   "name": "python",
   "nbconvert_exporter": "python",
   "pygments_lexer": "ipython3",
   "version": "3.9.12"
  }
 },
 "nbformat": 4,
 "nbformat_minor": 5
}
