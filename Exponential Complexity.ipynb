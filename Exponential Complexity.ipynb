{
 "cells": [
  {
   "cell_type": "code",
   "execution_count": 5,
   "id": "dd526ddd",
   "metadata": {},
   "outputs": [],
   "source": [
    "# Exponential O(3^n)\n",
    "alphabetic = ['a','b','c']\n",
    "\n",
    "# Exponential O(4^n)\n",
    "# alphabetic = ['a','b','c','d']"
   ]
  },
  {
   "cell_type": "code",
   "execution_count": 6,
   "id": "d187e6dd",
   "metadata": {},
   "outputs": [],
   "source": [
    "from itertools import chain, combinations"
   ]
  },
  {
   "cell_type": "code",
   "execution_count": 7,
   "id": "dd0eebab",
   "metadata": {},
   "outputs": [],
   "source": [
    "def subsets(iterable):\n",
    "    s= list(iterable)\n",
    "    return chain.from_iterable(combinations(s,r) for r in range(len(s)+1))"
   ]
  },
  {
   "cell_type": "code",
   "execution_count": 8,
   "id": "d132254a",
   "metadata": {},
   "outputs": [
    {
     "name": "stdout",
     "output_type": "stream",
     "text": [
      "[(), ('a',), ('b',), ('c',), ('a', 'b'), ('a', 'c'), ('b', 'c'), ('a', 'b', 'c')]\n"
     ]
    }
   ],
   "source": [
    "print(list(subsets(alphabetic)))"
   ]
  },
  {
   "cell_type": "code",
   "execution_count": null,
   "id": "576d4fe7",
   "metadata": {},
   "outputs": [],
   "source": []
  }
 ],
 "metadata": {
  "kernelspec": {
   "display_name": "Python 3 (ipykernel)",
   "language": "python",
   "name": "python3"
  },
  "language_info": {
   "codemirror_mode": {
    "name": "ipython",
    "version": 3
   },
   "file_extension": ".py",
   "mimetype": "text/x-python",
   "name": "python",
   "nbconvert_exporter": "python",
   "pygments_lexer": "ipython3",
   "version": "3.9.12"
  }
 },
 "nbformat": 4,
 "nbformat_minor": 5
}
