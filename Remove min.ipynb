{
 "cells": [
  {
   "cell_type": "code",
   "execution_count": 3,
   "id": "ef7cc92c",
   "metadata": {},
   "outputs": [],
   "source": [
    "def remove_min(lst):\n",
    "    stack_storage = []\n",
    "    if len(lst) == 0:\n",
    "        return lst\n",
    "    \n",
    "    min = lst.pop()\n",
    "    lst.append(min)\n",
    "    for item in range(len(lst)):\n",
    "        val = lst.pop()\n",
    "        if val <= min:\n",
    "            min = val\n",
    "        stack_storage.append(val)\n",
    "        \n",
    "    for item in range(len(stack_storage)):\n",
    "        val = stack_storage.pop()\n",
    "        if val != min:\n",
    "            lst.append(val)\n",
    "            \n",
    "    return lst, min"
   ]
  },
  {
   "cell_type": "code",
   "execution_count": 4,
   "id": "7bdc0e12",
   "metadata": {},
   "outputs": [
    {
     "name": "stdout",
     "output_type": "stream",
     "text": [
      "([4, 5, 6, 8, 5, 1], -2)\n"
     ]
    }
   ],
   "source": [
    "print(remove_min([4,5,6,8,-2,5,1]))"
   ]
  },
  {
   "cell_type": "code",
   "execution_count": null,
   "id": "4bf6b421",
   "metadata": {},
   "outputs": [],
   "source": []
  }
 ],
 "metadata": {
  "kernelspec": {
   "display_name": "Python 3 (ipykernel)",
   "language": "python",
   "name": "python3"
  },
  "language_info": {
   "codemirror_mode": {
    "name": "ipython",
    "version": 3
   },
   "file_extension": ".py",
   "mimetype": "text/x-python",
   "name": "python",
   "nbconvert_exporter": "python",
   "pygments_lexer": "ipython3",
   "version": "3.9.12"
  }
 },
 "nbformat": 4,
 "nbformat_minor": 5
}
