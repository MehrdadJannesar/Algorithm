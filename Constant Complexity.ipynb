{
 "cells": [
  {
   "cell_type": "code",
   "execution_count": 1,
   "id": "c4997a26",
   "metadata": {},
   "outputs": [],
   "source": [
    "nums = [3,5,69,4,12,25,44,1]"
   ]
  },
  {
   "cell_type": "code",
   "execution_count": 2,
   "id": "cb3ad878",
   "metadata": {},
   "outputs": [],
   "source": [
    "def ConstantComplexity(input_list):\n",
    "    if input_list[0] % 2 == 0:\n",
    "        return \"Even\"\n",
    "    return \"odd\""
   ]
  },
  {
   "cell_type": "code",
   "execution_count": 3,
   "id": "75eecc25",
   "metadata": {},
   "outputs": [
    {
     "name": "stdout",
     "output_type": "stream",
     "text": [
      "odd\n"
     ]
    }
   ],
   "source": [
    "print(ConstantComplexity(nums))"
   ]
  },
  {
   "cell_type": "code",
   "execution_count": null,
   "id": "bf89d834",
   "metadata": {},
   "outputs": [],
   "source": []
  }
 ],
 "metadata": {
  "kernelspec": {
   "display_name": "Python 3 (ipykernel)",
   "language": "python",
   "name": "python3"
  },
  "language_info": {
   "codemirror_mode": {
    "name": "ipython",
    "version": 3
   },
   "file_extension": ".py",
   "mimetype": "text/x-python",
   "name": "python",
   "nbconvert_exporter": "python",
   "pygments_lexer": "ipython3",
   "version": "3.9.12"
  }
 },
 "nbformat": 4,
 "nbformat_minor": 5
}
