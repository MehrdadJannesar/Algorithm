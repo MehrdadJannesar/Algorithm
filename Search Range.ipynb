{
 "cells": [
  {
   "cell_type": "code",
   "execution_count": 1,
   "id": "06cf9d36",
   "metadata": {},
   "outputs": [],
   "source": [
    "def search_range(nums, target):\n",
    "    low = 0\n",
    "    high = len(nums) - 1\n",
    "    while low <= high:\n",
    "        mid = low + (high - low)//2 #=> best method for find mid\n",
    "        if target < nums[mid]:\n",
    "            high = mid - 1\n",
    "        elif target > nums[mid]:\n",
    "            low = mid + 1\n",
    "        else:\n",
    "            break\n",
    "            \n",
    "    for j in range(len(nums) - 1, -1, -1): #=> range(start,stop,step)\n",
    "        if nums[j] == target:\n",
    "            return [mid, j]\n",
    "        \n",
    "        \n",
    "    return [None, None]"
   ]
  },
  {
   "cell_type": "code",
   "execution_count": 3,
   "id": "ce115082",
   "metadata": {},
   "outputs": [
    {
     "name": "stdout",
     "output_type": "stream",
     "text": [
      "[3, 5]\n"
     ]
    }
   ],
   "source": [
    "print(search_range([5,7,7,8,8,8,10],8))"
   ]
  },
  {
   "cell_type": "code",
   "execution_count": null,
   "id": "19c27f79",
   "metadata": {},
   "outputs": [],
   "source": []
  }
 ],
 "metadata": {
  "kernelspec": {
   "display_name": "Python 3 (ipykernel)",
   "language": "python",
   "name": "python3"
  },
  "language_info": {
   "codemirror_mode": {
    "name": "ipython",
    "version": 3
   },
   "file_extension": ".py",
   "mimetype": "text/x-python",
   "name": "python",
   "nbconvert_exporter": "python",
   "pygments_lexer": "ipython3",
   "version": "3.9.12"
  }
 },
 "nbformat": 4,
 "nbformat_minor": 5
}
