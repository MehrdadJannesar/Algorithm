{
 "cells": [
  {
   "cell_type": "code",
   "execution_count": 1,
   "id": "68564317",
   "metadata": {},
   "outputs": [],
   "source": [
    "def bead_sort(sequence):\n",
    "    if any(not isinstance(x,int) or x < 0 for x in sequence):\n",
    "        raise TypeError('sequence must be list of non-negative integers or letters')\n",
    "        \n",
    "    for _ in range(len(sequence)):\n",
    "        for i, (rod_upper, rod_lower) in enumerate(zip(sequence, sequence[1:])):\n",
    "            if rod_upper > rod_lower:\n",
    "                sequence[i] -= rod_upper - rod_lower\n",
    "                sequence[i+1] += rod_upper - rod_lower\n",
    "                \n",
    "    return sequence"
   ]
  },
  {
   "cell_type": "code",
   "execution_count": 2,
   "id": "de6ad947",
   "metadata": {},
   "outputs": [
    {
     "name": "stdout",
     "output_type": "stream",
     "text": [
      "[2, 3, 4, 6, 7, 7, 9]\n"
     ]
    }
   ],
   "source": [
    "print(bead_sort([4,7,2,9,3,6,7]))"
   ]
  },
  {
   "cell_type": "code",
   "execution_count": null,
   "id": "ca9ec531",
   "metadata": {},
   "outputs": [],
   "source": []
  }
 ],
 "metadata": {
  "kernelspec": {
   "display_name": "Python 3 (ipykernel)",
   "language": "python",
   "name": "python3"
  },
  "language_info": {
   "codemirror_mode": {
    "name": "ipython",
    "version": 3
   },
   "file_extension": ".py",
   "mimetype": "text/x-python",
   "name": "python",
   "nbconvert_exporter": "python",
   "pygments_lexer": "ipython3",
   "version": "3.9.12"
  }
 },
 "nbformat": 4,
 "nbformat_minor": 5
}
