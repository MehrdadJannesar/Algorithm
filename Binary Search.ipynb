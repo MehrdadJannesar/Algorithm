{
 "cells": [
  {
   "cell_type": "code",
   "execution_count": 1,
   "id": "5696820b",
   "metadata": {},
   "outputs": [],
   "source": [
    "def bin_search(array, element):\n",
    "    low, high = 0, len(array)-1\n",
    "    \n",
    "    while low <= high:\n",
    "        mid = (high + low) // 2\n",
    "        val = array[mid]\n",
    "        if val == element:\n",
    "            return mid\n",
    "        elif val < element:\n",
    "            low = mid + 1\n",
    "        else:\n",
    "            high = mid - 1\n",
    "    return -1"
   ]
  },
  {
   "cell_type": "code",
   "execution_count": 3,
   "id": "42fccfb9",
   "metadata": {},
   "outputs": [
    {
     "name": "stdout",
     "output_type": "stream",
     "text": [
      "2\n"
     ]
    }
   ],
   "source": [
    "print(bin_search([2,3,4,6,12,19,20,21],4))"
   ]
  },
  {
   "cell_type": "code",
   "execution_count": null,
   "id": "3909763f",
   "metadata": {},
   "outputs": [],
   "source": []
  }
 ],
 "metadata": {
  "kernelspec": {
   "display_name": "Python 3 (ipykernel)",
   "language": "python",
   "name": "python3"
  },
  "language_info": {
   "codemirror_mode": {
    "name": "ipython",
    "version": 3
   },
   "file_extension": ".py",
   "mimetype": "text/x-python",
   "name": "python",
   "nbconvert_exporter": "python",
   "pygments_lexer": "ipython3",
   "version": "3.9.12"
  }
 },
 "nbformat": 4,
 "nbformat_minor": 5
}
