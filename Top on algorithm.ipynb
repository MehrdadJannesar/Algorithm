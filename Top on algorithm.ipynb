{
 "cells": [
  {
   "cell_type": "code",
   "execution_count": 11,
   "id": "b8e61353",
   "metadata": {},
   "outputs": [],
   "source": [
    "# [1,2,2,3,4,1] => [1,2]\n",
    "nums = [1,2,2,3,4,1,2,3,3]"
   ]
  },
  {
   "cell_type": "code",
   "execution_count": 12,
   "id": "2044f296",
   "metadata": {},
   "outputs": [],
   "source": [
    "def top_one(arr):\n",
    "    values={}\n",
    "    result = []\n",
    "    n_val = 0\n",
    "    \n",
    "    for i in arr:\n",
    "        if i in values:\n",
    "            values[i] += 1\n",
    "        else:\n",
    "            values[i] = 1\n",
    "    \n",
    "    n_val = max(values.values())\n",
    "    \n",
    "    for i in values.keys():\n",
    "        if values[i] == n_val:\n",
    "            result.append(i)\n",
    "        \n",
    "    return result"
   ]
  },
  {
   "cell_type": "code",
   "execution_count": 13,
   "id": "f97e38e4",
   "metadata": {},
   "outputs": [
    {
     "name": "stdout",
     "output_type": "stream",
     "text": [
      "[2, 3]\n"
     ]
    }
   ],
   "source": [
    "print(top_one(nums))"
   ]
  },
  {
   "cell_type": "code",
   "execution_count": null,
   "id": "4bb06682",
   "metadata": {},
   "outputs": [],
   "source": []
  }
 ],
 "metadata": {
  "kernelspec": {
   "display_name": "Python 3 (ipykernel)",
   "language": "python",
   "name": "python3"
  },
  "language_info": {
   "codemirror_mode": {
    "name": "ipython",
    "version": 3
   },
   "file_extension": ".py",
   "mimetype": "text/x-python",
   "name": "python",
   "nbconvert_exporter": "python",
   "pygments_lexer": "ipython3",
   "version": "3.9.12"
  }
 },
 "nbformat": 4,
 "nbformat_minor": 5
}
