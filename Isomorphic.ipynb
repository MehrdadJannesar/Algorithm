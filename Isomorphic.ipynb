{
 "cells": [
  {
   "cell_type": "code",
   "execution_count": 1,
   "id": "0f92b5ba",
   "metadata": {},
   "outputs": [],
   "source": [
    "def is_isomorphic(s,t):\n",
    "    if len(s) != len(t):\n",
    "        return False\n",
    "    \n",
    "    dict = {}\n",
    "    set_values = set()\n",
    "    for i in range(len(s)):\n",
    "        if s[i] not in dict:\n",
    "            if t[i] in set_values:\n",
    "                return False\n",
    "            dict[s[i]] = t[i]\n",
    "            set_values.add(t[i])\n",
    "        else:\n",
    "            if dict[s[i]] != t[i]:\n",
    "                return False\n",
    "    return True"
   ]
  },
  {
   "cell_type": "code",
   "execution_count": 3,
   "id": "8cd7a598",
   "metadata": {},
   "outputs": [
    {
     "name": "stdout",
     "output_type": "stream",
     "text": [
      "True\n"
     ]
    }
   ],
   "source": [
    "print(is_isomorphic('foo','bee'))"
   ]
  },
  {
   "cell_type": "code",
   "execution_count": null,
   "id": "3278aa97",
   "metadata": {},
   "outputs": [],
   "source": []
  }
 ],
 "metadata": {
  "kernelspec": {
   "display_name": "Python 3 (ipykernel)",
   "language": "python",
   "name": "python3"
  },
  "language_info": {
   "codemirror_mode": {
    "name": "ipython",
    "version": 3
   },
   "file_extension": ".py",
   "mimetype": "text/x-python",
   "name": "python",
   "nbconvert_exporter": "python",
   "pygments_lexer": "ipython3",
   "version": "3.9.12"
  }
 },
 "nbformat": 4,
 "nbformat_minor": 5
}
