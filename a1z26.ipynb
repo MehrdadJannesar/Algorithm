{
 "cells": [
  {
   "cell_type": "code",
   "execution_count": 1,
   "id": "b937c064",
   "metadata": {},
   "outputs": [],
   "source": [
    "def encode(string):\n",
    "    return [ord(elm) for elm in string]\n",
    "\n",
    "def decode(str_encode):\n",
    "    return \"\".join(chr(elm) for elm in str_encode) "
   ]
  },
  {
   "cell_type": "code",
   "execution_count": 2,
   "id": "616c2b35",
   "metadata": {},
   "outputs": [
    {
     "name": "stdout",
     "output_type": "stream",
     "text": [
      "[109, 101, 104, 114, 100, 97, 100]\n"
     ]
    }
   ],
   "source": [
    "print(encode('mehrdad'))"
   ]
  },
  {
   "cell_type": "code",
   "execution_count": 3,
   "id": "dd468f9a",
   "metadata": {},
   "outputs": [
    {
     "name": "stdout",
     "output_type": "stream",
     "text": [
      "mehrdad\n"
     ]
    }
   ],
   "source": [
    "print(decode([109, 101, 104, 114, 100, 97, 100]))"
   ]
  },
  {
   "cell_type": "markdown",
   "id": "693c3d77",
   "metadata": {},
   "source": [
    "### the algorithm below is better than the upper algorithm"
   ]
  },
  {
   "cell_type": "code",
   "execution_count": 23,
   "id": "f11dc0c2",
   "metadata": {},
   "outputs": [],
   "source": [
    "def encode(string):\n",
    "    return [ord(elm) - 24 for elm in string]\n",
    "\n",
    "def decode(str_encode):\n",
    "    return \"\".join(chr(elm + 24) for elm in str_encode) "
   ]
  },
  {
   "cell_type": "code",
   "execution_count": 24,
   "id": "15ee5e96",
   "metadata": {},
   "outputs": [
    {
     "name": "stdout",
     "output_type": "stream",
     "text": [
      "[85, 77, 80, 90, 76, 73, 76]\n"
     ]
    }
   ],
   "source": [
    "print(encode('mehrdad'))"
   ]
  },
  {
   "cell_type": "code",
   "execution_count": 26,
   "id": "c1fe4169",
   "metadata": {},
   "outputs": [
    {
     "name": "stdout",
     "output_type": "stream",
     "text": [
      "mehrdad\n"
     ]
    }
   ],
   "source": [
    "print(decode([85, 77, 80, 90, 76, 73, 76]))"
   ]
  },
  {
   "cell_type": "code",
   "execution_count": null,
   "id": "39508c0a",
   "metadata": {},
   "outputs": [],
   "source": []
  }
 ],
 "metadata": {
  "kernelspec": {
   "display_name": "Python 3 (ipykernel)",
   "language": "python",
   "name": "python3"
  },
  "language_info": {
   "codemirror_mode": {
    "name": "ipython",
    "version": 3
   },
   "file_extension": ".py",
   "mimetype": "text/x-python",
   "name": "python",
   "nbconvert_exporter": "python",
   "pygments_lexer": "ipython3",
   "version": "3.9.12"
  }
 },
 "nbformat": 4,
 "nbformat_minor": 5
}
